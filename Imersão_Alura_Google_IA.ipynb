{
  "nbformat": 4,
  "nbformat_minor": 0,
  "metadata": {
    "colab": {
      "provenance": [],
      "authorship_tag": "ABX9TyOZfzRh3pvcfJLX8zFkjmAU",
      "include_colab_link": true
    },
    "kernelspec": {
      "name": "python3",
      "display_name": "Python 3"
    },
    "language_info": {
      "name": "python"
    }
  },
  "cells": [
    {
      "cell_type": "markdown",
      "metadata": {
        "id": "view-in-github",
        "colab_type": "text"
      },
      "source": [
        "<a href=\"https://colab.research.google.com/github/DanielBanja/AberturadeContas/blob/main/Imers%C3%A3o_Alura_Google_IA.ipynb\" target=\"_parent\"><img src=\"https://colab.research.google.com/assets/colab-badge.svg\" alt=\"Open In Colab\"/></a>"
      ]
    },
    {
      "cell_type": "markdown",
      "source": [
        "##Instalando o SDK do Google\n",
        "https://ai.google.dev/gemini-api/docs/quickstart?hl=pt-br"
      ],
      "metadata": {
        "id": "OvLZW7ughYfy"
      }
    },
    {
      "cell_type": "code",
      "execution_count": null,
      "metadata": {
        "id": "Umo3cedgdHIt"
      },
      "outputs": [],
      "source": [
        "pip install -q -U google.generativeai"
      ]
    },
    {
      "cell_type": "markdown",
      "source": [
        "##Importando o Google Generativo e Incluindo a minha Chave API do Google AI Studio"
      ],
      "metadata": {
        "id": "uA9xwij0hil5"
      }
    },
    {
      "cell_type": "code",
      "source": [
        "import google.generativeai as genai\n",
        "from google.colab import userdata\n",
        "api_key = userdata.get('SECRET_KEY')\n",
        "genai.configure(api_key=api_key)\n",
        "#GOOGLE_API_KEY=\"COLOQUE SUA CHAVE\"\n",
        "#genai.configure(api_key=GOOGLE_API_KEY)"
      ],
      "metadata": {
        "id": "Afa8AmKdeim2"
      },
      "execution_count": 20,
      "outputs": []
    },
    {
      "cell_type": "markdown",
      "source": [
        "##Selecionando o modelo Gemini Pro"
      ],
      "metadata": {
        "id": "nUodFQxvoLDx"
      }
    },
    {
      "cell_type": "code",
      "source": [
        "#model = genai.GenerativeModel('gemini-pro')"
      ],
      "metadata": {
        "id": "7F2yiebRfV1R"
      },
      "execution_count": null,
      "outputs": []
    },
    {
      "cell_type": "markdown",
      "source": [
        "##Modelos IA que estou executando."
      ],
      "metadata": {
        "id": "88VXo78InhpE"
      }
    },
    {
      "cell_type": "code",
      "source": [
        "for m in genai.list_models():\n",
        "  if 'generateContent' in m.supported_generation_methods:\n",
        "    print(m.name)"
      ],
      "metadata": {
        "colab": {
          "base_uri": "https://localhost:8080/",
          "height": 142
        },
        "id": "mXLJrXIBiQWq",
        "outputId": "890fcf04-683e-4edd-cf03-fbe421dcc98a"
      },
      "execution_count": null,
      "outputs": [
        {
          "output_type": "stream",
          "name": "stdout",
          "text": [
            "models/gemini-1.0-pro\n",
            "models/gemini-1.0-pro-001\n",
            "models/gemini-1.0-pro-latest\n",
            "models/gemini-1.0-pro-vision-latest\n",
            "models/gemini-1.5-pro-latest\n",
            "models/gemini-pro\n",
            "models/gemini-pro-vision\n"
          ]
        }
      ]
    },
    {
      "cell_type": "markdown",
      "source": [
        "##Configurando o Generation Contagem de acesso e temperatura\n"
      ],
      "metadata": {
        "id": "jOfHosU6oo5T"
      }
    },
    {
      "cell_type": "code",
      "source": [
        "generation_config = {\n",
        "    \"candidate_count\": 1,\n",
        "    \"temperature\": 0.5,\n",
        "}"
      ],
      "metadata": {
        "id": "Num1sSO6kYP2"
      },
      "execution_count": null,
      "outputs": []
    },
    {
      "cell_type": "markdown",
      "source": [
        "##Configurando os bloqueios como (Assédio, Ódio, Sexual e Perigoso)\n",
        "Está sem bloqueios"
      ],
      "metadata": {
        "id": "ZP5b6bIXo92P"
      }
    },
    {
      "cell_type": "code",
      "source": [
        "safety_settings = {\n",
        "    \"HARASSMENT\": \"BLOCK_NONE\",\n",
        "    \"HATE\": \"BLOCK_NONE\",\n",
        "    \"SEXUAL\": \"BLOCK_NONE\",\n",
        "    \"DANGEROUS\": \"BLOCK_NONE\",\n",
        "}"
      ],
      "metadata": {
        "id": "18oiZsnHmRX5"
      },
      "execution_count": 13,
      "outputs": []
    },
    {
      "cell_type": "markdown",
      "source": [
        "##Inicializando Modelo"
      ],
      "metadata": {
        "id": "_XH_0CbunznE"
      }
    },
    {
      "cell_type": "code",
      "source": [
        "model = genai.GenerativeModel(model_name=\"gemini-1.0-pro\", generation_config=generation_config, safety_settings=safety_settings)"
      ],
      "metadata": {
        "id": "ylLP2pkAnyHW"
      },
      "execution_count": 14,
      "outputs": []
    },
    {
      "cell_type": "markdown",
      "source": [
        "##Criando o campo de interação com a IA (Onde colocomos nossa pergunta)"
      ],
      "metadata": {
        "id": "xaVe2IegoS_P"
      }
    },
    {
      "cell_type": "code",
      "source": [
        "response = model.generate_content(\"Vamos aprender conteudo sobre ia, me de sujestões!\")\n",
        "print(response.text)"
      ],
      "metadata": {
        "colab": {
          "base_uri": "https://localhost:8080/",
          "height": 767
        },
        "id": "8nG5ho7ffuiH",
        "outputId": "2a1a9e93-3e6c-464e-b981-8eef9e8cf7c2"
      },
      "execution_count": 15,
      "outputs": [
        {
          "output_type": "stream",
          "name": "stdout",
          "text": [
            "**Conceitos Fundamentais**\n",
            "\n",
            "* O que é inteligência artificial (IA)?\n",
            "* Tipos de IA: aprendizado de máquina, aprendizado profundo, processamento de linguagem natural\n",
            "* Algoritmos de IA comuns: regressão, classificação, agrupamento\n",
            "* Arquiteturas de rede neural: redes neurais convolucionais, redes neurais recorrentes\n",
            "\n",
            "**Aprendizado de Máquina**\n",
            "\n",
            "* Supervisão: aprendizado supervisionado, aprendizado não supervisionado, aprendizado por reforço\n",
            "* Modelos de aprendizado de máquina: árvores de decisão, máquinas de vetores de suporte, redes neurais\n",
            "* Avaliação de modelos: precisão, recall, F1-score\n",
            "* Seleção de recursos: importância do recurso, seleção de recurso recursivo\n",
            "\n",
            "**Aprendizado Profundo**\n",
            "\n",
            "* Redes neurais convolucionais (CNNs): arquitetura, camadas, treinamento\n",
            "* Redes neurais recorrentes (RNNs): arquitetura, tipos, treinamento\n",
            "* Treinamento de redes neurais: otimização, regularização, normalização de dados\n",
            "* Aplicações de aprendizado profundo: visão computacional, processamento de linguagem natural\n",
            "\n",
            "**Processamento de Linguagem Natural (PNL)**\n",
            "\n",
            "* Representação de texto: vetores de palavras, incorporações de palavras\n",
            "* Modelagem de linguagem: modelos de n-gramas, modelos de Markov ocultos\n",
            "* Análise de sentimento: classificação de texto, detecção de emoção\n",
            "* Geração de linguagem natural: tradução automática, resumo de texto\n",
            "\n",
            "**Aplicações da IA**\n",
            "\n",
            "* Visão computacional: reconhecimento de imagem, detecção de objeto\n",
            "* Processamento de linguagem natural: tradução automática, chatbots\n",
            "* Saúde: diagnóstico de doenças, previsão de risco\n",
            "* Finanças: detecção de fraude, previsão de mercado\n",
            "* Automação: robótica, veículos autônomos\n",
            "\n",
            "**Ética e Implicações Sociais**\n",
            "\n",
            "* Viés e discriminação em IA\n",
            "* Privacidade e segurança\n",
            "* Impacto no emprego e na sociedade\n",
            "* Regulamentações e políticas de IA\n"
          ]
        }
      ]
    },
    {
      "cell_type": "code",
      "source": [
        "chat = model.start_chat(history=[])"
      ],
      "metadata": {
        "id": "jYfvHXvA8K9f"
      },
      "execution_count": 17,
      "outputs": []
    },
    {
      "cell_type": "code",
      "source": [
        "prompt = input(\"Esperando prompt: \")\n",
        "\n",
        "while  prompt != \"fim\":\n",
        "  response = chat.send_message(prompt)\n",
        "  print(\"Resposta: \", response.text, \"\\n\")\n",
        "  prompt = input(\"Esperando prompt: \")"
      ],
      "metadata": {
        "colab": {
          "base_uri": "https://localhost:8080/",
          "height": 142
        },
        "id": "r6PWAoWd8qS1",
        "outputId": "89c983fc-6b1b-41a7-82aa-e62f189dea44"
      },
      "execution_count": 18,
      "outputs": [
        {
          "name": "stdout",
          "output_type": "stream",
          "text": [
            "Esperando prompt: Qual a capital do japão?\n",
            "Resposta:  Tóquio \n",
            "\n",
            "Esperando prompt: Qual a comida tipica desse pais\n",
            "Resposta:  Sushi \n",
            "\n",
            "Esperando prompt: fim\n"
          ]
        }
      ]
    },
    {
      "cell_type": "code",
      "source": [
        "chat.history"
      ],
      "metadata": {
        "colab": {
          "base_uri": "https://localhost:8080/"
        },
        "id": "ZfuRaE0GLYXz",
        "outputId": "add43b90-1c12-4484-b20d-e2752b5bbab7"
      },
      "execution_count": 22,
      "outputs": [
        {
          "output_type": "execute_result",
          "data": {
            "text/plain": [
              "[parts {\n",
              "   text: \"Qual a capital do jap\\303\\243o?\"\n",
              " }\n",
              " role: \"user\",\n",
              " parts {\n",
              "   text: \"T\\303\\263quio\"\n",
              " }\n",
              " role: \"model\",\n",
              " parts {\n",
              "   text: \"Qual a comida tipica desse pais\"\n",
              " }\n",
              " role: \"user\",\n",
              " parts {\n",
              "   text: \"Sushi\"\n",
              " }\n",
              " role: \"model\"]"
            ]
          },
          "metadata": {},
          "execution_count": 22
        }
      ]
    },
    {
      "cell_type": "code",
      "source": [
        "#Melhorando a visualização\n",
        "#Código disponível em https://ai.google.dev/tutorials/python_quickstart#import_packages\n",
        "import textwrap\n",
        "from IPython.display import display\n",
        "from IPython.display import Markdown\n",
        "\n",
        "def to_markdown(text):\n",
        "  text = text.replace('•', '  *')\n",
        "  return Markdown(textwrap.indent(text, '> ', predicate=lambda _: True))\n",
        "\n",
        "#Imprimindo o histórico\n",
        "for message in chat.history:\n",
        "  display(to_markdown(f'**{message.role}**: {message.parts[0].text}'))\n",
        "  print('-------------------------------------------')"
      ],
      "metadata": {
        "colab": {
          "base_uri": "https://localhost:8080/",
          "height": 270
        },
        "id": "3LE29q2ELg6J",
        "outputId": "85588bb6-f4ea-44bd-aba2-85807c82335e"
      },
      "execution_count": 23,
      "outputs": [
        {
          "output_type": "display_data",
          "data": {
            "text/plain": [
              "<IPython.core.display.Markdown object>"
            ],
            "text/markdown": "> **user**: Qual a capital do japão?"
          },
          "metadata": {}
        },
        {
          "output_type": "stream",
          "name": "stdout",
          "text": [
            "-------------------------------------------\n"
          ]
        },
        {
          "output_type": "display_data",
          "data": {
            "text/plain": [
              "<IPython.core.display.Markdown object>"
            ],
            "text/markdown": "> **model**: Tóquio"
          },
          "metadata": {}
        },
        {
          "output_type": "stream",
          "name": "stdout",
          "text": [
            "-------------------------------------------\n"
          ]
        },
        {
          "output_type": "display_data",
          "data": {
            "text/plain": [
              "<IPython.core.display.Markdown object>"
            ],
            "text/markdown": "> **user**: Qual a comida tipica desse pais"
          },
          "metadata": {}
        },
        {
          "output_type": "stream",
          "name": "stdout",
          "text": [
            "-------------------------------------------\n"
          ]
        },
        {
          "output_type": "display_data",
          "data": {
            "text/plain": [
              "<IPython.core.display.Markdown object>"
            ],
            "text/markdown": "> **model**: Sushi"
          },
          "metadata": {}
        },
        {
          "output_type": "stream",
          "name": "stdout",
          "text": [
            "-------------------------------------------\n"
          ]
        }
      ]
    }
  ]
}